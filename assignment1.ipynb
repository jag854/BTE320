{
  "nbformat": 4,
  "nbformat_minor": 0,
  "metadata": {
    "colab": {
      "provenance": [],
      "authorship_tag": "ABX9TyP5RbKwlhwvovu8boNOz8jO",
      "include_colab_link": true
    },
    "kernelspec": {
      "name": "python3",
      "display_name": "Python 3"
    },
    "language_info": {
      "name": "python"
    }
  },
  "cells": [
    {
      "cell_type": "markdown",
      "metadata": {
        "id": "view-in-github",
        "colab_type": "text"
      },
      "source": [
        "<a href=\"https://colab.research.google.com/github/jag854/BTE320/blob/main/assignment1.ipynb\" target=\"_parent\"><img src=\"https://colab.research.google.com/assets/colab-badge.svg\" alt=\"Open In Colab\"/></a>"
      ]
    },
    {
      "cell_type": "code",
      "execution_count": null,
      "metadata": {
        "colab": {
          "base_uri": "https://localhost:8080/"
        },
        "id": "Ro7PKZFD4K-5",
        "outputId": "96354ddd-3b15-44f2-dcf6-73af3f848e03"
      },
      "outputs": [
        {
          "output_type": "stream",
          "name": "stdout",
          "text": [
            "Enter radius: 5\n",
            "Enter height: 7\n",
            "Area of cylinder: 376.8 sq. ft\n"
          ]
        }
      ],
      "source": [
        "pi = 3.14\n",
        "radius = float(input('Enter radius: '))\n",
        "height = float(input('Enter height: '))\n",
        "\n",
        "area = (2 * pi * (radius ** 2)) + (2 * pi * radius * height)\n",
        "\n",
        "print(f'Area of cylinder: {area} sq. ft')\n"
      ]
    },
    {
      "cell_type": "code",
      "source": [
        "n1 = float(input('Enter first number: '))\n",
        "n2 = float(input('Enter second number: '))\n",
        "op = input('Enter operator: ')\n",
        "\n",
        "if op == '+' :\n",
        "  res = n1 + n2\n",
        "elif op == '-' :\n",
        "  res = n1- n2\n",
        "elif op == '*' :\n",
        "  res = n1 * n2\n",
        "elif op == '/' :\n",
        "  res = n1 / n2\n",
        "elif op == '//' :\n",
        "  res = n1 // n2\n",
        "elif op == '**' :\n",
        "  res = n1 ** n2\n",
        "elif op == '%' :\n",
        "  res = n1 % n2\n",
        "else:\n",
        "  res = 'Invalid operator!'\n",
        "\n",
        "print(f'{n1} {op} {n2} = {res}')"
      ],
      "metadata": {
        "id": "lNVi7zPsZHSq",
        "colab": {
          "base_uri": "https://localhost:8080/"
        },
        "outputId": "961e24a5-6729-4386-86df-12e16e2a7fc7"
      },
      "execution_count": null,
      "outputs": [
        {
          "output_type": "stream",
          "name": "stdout",
          "text": [
            "Enter first number: 6\n",
            "Enter second number: 8\n",
            "Enter operator: +\n",
            "6.0 + 8.0 = 14.0\n"
          ]
        }
      ]
    }
  ]
}