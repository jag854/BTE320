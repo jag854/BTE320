{
  "nbformat": 4,
  "nbformat_minor": 0,
  "metadata": {
    "colab": {
      "provenance": [],
      "authorship_tag": "ABX9TyPl4QeD0+CbZUfdUYm8C/7E",
      "include_colab_link": true
    },
    "kernelspec": {
      "name": "python3",
      "display_name": "Python 3"
    },
    "language_info": {
      "name": "python"
    }
  },
  "cells": [
    {
      "cell_type": "markdown",
      "metadata": {
        "id": "view-in-github",
        "colab_type": "text"
      },
      "source": [
        "<a href=\"https://colab.research.google.com/github/jag854/BTE320/blob/main/assignment1.ipynb\" target=\"_parent\"><img src=\"https://colab.research.google.com/assets/colab-badge.svg\" alt=\"Open In Colab\"/></a>"
      ]
    },
    {
      "cell_type": "code",
      "execution_count": null,
      "metadata": {
        "colab": {
          "base_uri": "https://localhost:8080/"
        },
        "id": "Ro7PKZFD4K-5",
        "outputId": "96354ddd-3b15-44f2-dcf6-73af3f848e03"
      },
      "outputs": [
        {
          "output_type": "stream",
          "name": "stdout",
          "text": [
            "Enter radius: 5\n",
            "Enter height: 7\n",
            "Area of cylinder: 376.8 sq. ft\n"
          ]
        }
      ],
      "source": [
        "pi = 3.14\n",
        "radius = float(input('Enter radius: '))\n",
        "height = float(input('Enter height: '))\n",
        "\n",
        "area = (2 * pi * (radius ** 2)) + (2 * pi * radius * height)\n",
        "\n",
        "print(f'Area of cylinder: {area} sq. ft')\n"
      ]
    },
    {
      "cell_type": "code",
      "source": [
        "n1 = float(input('Enter first number: '))\n",
        "n2 = float(input('Enter second number: '))\n",
        "op = input('Enter operator: ')\n",
        "\n",
        "if op == '+' :\n",
        "  res = n1 + n2\n",
        "elif op == '-' :\n",
        "  res = n1- n2\n",
        "elif op == '*' :\n",
        "  res = n1 * n2\n",
        "elif op == '/' :\n",
        "  res = n1 / n2\n",
        "elif op == '//' :\n",
        "  res = n1 // n2\n",
        "elif op == '**' :\n",
        "  res = n1 ** n2\n",
        "elif op == '%' :\n",
        "  res = n1 % n2\n",
        "else:\n",
        "  res = 'Invalid operator!'\n",
        "\n",
        "print(f'{n1} {op} {n2} = {res}')"
      ],
      "metadata": {
        "id": "lNVi7zPsZHSq",
        "colab": {
          "base_uri": "https://localhost:8080/"
        },
        "outputId": "961e24a5-6729-4386-86df-12e16e2a7fc7"
      },
      "execution_count": null,
      "outputs": [
        {
          "output_type": "stream",
          "name": "stdout",
          "text": [
            "Enter first number: 6\n",
            "Enter second number: 8\n",
            "Enter operator: +\n",
            "6.0 + 8.0 = 14.0\n"
          ]
        }
      ]
    },
    {
      "cell_type": "code",
      "source": [
        "for number in range(1, 9, 1):\n",
        "  fee = 5 + 2.5 * number\n",
        "  if fee < 10:\n",
        "    fee = 10.0\n",
        "  elif fee > 20:\n",
        "    fee = 20.0\n",
        "  print(number, fee)"
      ],
      "metadata": {
        "colab": {
          "base_uri": "https://localhost:8080/"
        },
        "id": "0jyOvc5RpW9Z",
        "outputId": "03d30c0c-fd6e-4ddb-e33e-f3aa5f4db7f7"
      },
      "execution_count": null,
      "outputs": [
        {
          "output_type": "stream",
          "name": "stdout",
          "text": [
            "1 10.0\n",
            "2 10.0\n",
            "3 12.5\n",
            "4 15.0\n",
            "5 17.5\n",
            "6 20.0\n",
            "7 20.0\n",
            "8 20.0\n"
          ]
        }
      ]
    },
    {
      "cell_type": "code",
      "source": [
        "print('Ad$\\t', 'Profit')\n",
        "for advertisingDollars in range(0, 201, 25):\n",
        "  revenue = (20 + 2 * round(advertisingDollars ** 0.5)) * 10\n",
        "  costs = 200 + advertisingDollars\n",
        "  profit = revenue - costs\n",
        "  print(advertisingDollars, '\\t', profit)\n"
      ],
      "metadata": {
        "colab": {
          "base_uri": "https://localhost:8080/"
        },
        "id": "FUqerLN6uHv8",
        "outputId": "f2ba161d-854d-49a4-e40d-28f73a608095"
      },
      "execution_count": null,
      "outputs": [
        {
          "output_type": "stream",
          "name": "stdout",
          "text": [
            "Ad$\t Profit\n",
            "0 \t 0\n",
            "25 \t 75\n",
            "50 \t 90\n",
            "75 \t 105\n",
            "100 \t 100\n",
            "125 \t 95\n",
            "150 \t 90\n",
            "175 \t 85\n",
            "200 \t 80\n"
          ]
        }
      ]
    },
    {
      "cell_type": "code",
      "source": [
        "choice1 = input('Enter choice for player 1: ')\n",
        "choice2 = input('Enter choice for player 2: ')\n",
        "\n",
        "if choice1 == 'rock' and choice2 == 'paper':\n",
        "  print('Player 2 wins')\n",
        "elif choice1 == 'paper' and choice2 == 'rock':\n",
        "  print('Player 1 wins')\n",
        "elif choice1 == 'rock' and choice2 == 'scissors':\n",
        "  print('Player 1 wins')\n",
        "elif choice1 == 'scissors' and choice2 == 'rock':\n",
        "  print('Player 2 wins')\n",
        "elif choice1 == 'scissors' and choice2 == 'paper':\n",
        "  print('Player 1 wins')\n",
        "elif choice1 == 'paper' and choice2 == 'scissors':\n",
        "  print('Player 2 wins')\n",
        "elif choice1 == 'stop' or choice2 == 'stop':\n",
        "  print('Game Over')"
      ],
      "metadata": {
        "colab": {
          "base_uri": "https://localhost:8080/"
        },
        "id": "G3eIx8kYZphq",
        "outputId": "28146c3f-f4f5-4904-92e6-77432c22830a"
      },
      "execution_count": null,
      "outputs": [
        {
          "output_type": "stream",
          "name": "stdout",
          "text": [
            "Enter choice for player 1: rock\n",
            "Enter choice for player 2: paper\n",
            "Player 2 wins\n"
          ]
        }
      ]
    },
    {
      "cell_type": "code",
      "source": [
        "play = input('Do you want to play the game (yes/no): ')\n",
        "\n",
        "while play == 'Yes':\n",
        "  p1 = input('Player 1 - Choose between rock/paper/scissors: ')\n",
        "  p2 = input('Player 2 - Choose between rock/paper/scissors: ')\n",
        "\n",
        "  if p1 == p2:\n",
        "    print('Draw')\n",
        "\n",
        "  elif p1 == 'Rock' and p2 == 'Scissors':\n",
        "    print('Player 1 wins!')\n",
        "  elif p1 == 'Scissors' and p2 == 'Paper':\n",
        "    print('Player 1 wins!')\n",
        "  elif p1 == 'Paper' and p2 == 'Rock':\n",
        "    print('Player 1 wins!')\n",
        "  else:\n",
        "    print('Player 2 wins!')\n",
        "\n",
        "  play = input('Do you want to play another game (yes/no): ')\n",
        "print('Good day...')"
      ],
      "metadata": {
        "colab": {
          "base_uri": "https://localhost:8080/"
        },
        "id": "VGDcYvTlcmJH",
        "outputId": "14ede5f5-1730-4509-ccbe-55e94805d783"
      },
      "execution_count": null,
      "outputs": [
        {
          "output_type": "stream",
          "name": "stdout",
          "text": [
            "Do you want to play the game (yes/no): Yes\n",
            "Player 1 - Choose between rock/paper/scissors: Rock\n",
            "Player 2 - Choose between rock/paper/scissors: Paper\n",
            "Player 2 wins!\n",
            "Do you want to play another game (yes/no): Yes\n",
            "Player 1 - Choose between rock/paper/scissors: Scissors\n",
            "Player 2 - Choose between rock/paper/scissors: Paper\n",
            "Player 1 wins!\n",
            "Do you want to play another game (yes/no): No\n",
            "Good day...\n"
          ]
        }
      ]
    },
    {
      "cell_type": "code",
      "source": [
        "lst = []\n",
        "\n",
        "num = float(input('Enter a number: '))\n",
        "\n",
        "while num != 0:\n",
        "  lst.append(num)\n",
        "  num = float(input('Enter a number: '))\n",
        "lst.sort(reverse=True)\n",
        "lst"
      ],
      "metadata": {
        "colab": {
          "base_uri": "https://localhost:8080/"
        },
        "id": "vDPuD1m3diaL",
        "outputId": "d4dd8055-a1f1-443d-d821-ddfbebd04b1d"
      },
      "execution_count": null,
      "outputs": [
        {
          "name": "stdout",
          "output_type": "stream",
          "text": [
            "Enter a number: 5\n",
            "Enter a number: 9\n",
            "Enter a number: 3\n",
            "Enter a number: 2\n",
            "Enter a number: 0\n"
          ]
        },
        {
          "output_type": "execute_result",
          "data": {
            "text/plain": [
              "[9.0, 5.0, 3.0, 2.0]"
            ]
          },
          "metadata": {},
          "execution_count": 4
        }
      ]
    }
  ]
}