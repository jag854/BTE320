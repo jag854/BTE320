{
  "nbformat": 4,
  "nbformat_minor": 0,
  "metadata": {
    "colab": {
      "provenance": [],
      "authorship_tag": "ABX9TyND3Mh+kSGbCqcmL2UcjpZR",
      "include_colab_link": true
    },
    "kernelspec": {
      "name": "python3",
      "display_name": "Python 3"
    },
    "language_info": {
      "name": "python"
    }
  },
  "cells": [
    {
      "cell_type": "markdown",
      "metadata": {
        "id": "view-in-github",
        "colab_type": "text"
      },
      "source": [
        "<a href=\"https://colab.research.google.com/github/jag854/BTE320/blob/main/assignment1.ipynb\" target=\"_parent\"><img src=\"https://colab.research.google.com/assets/colab-badge.svg\" alt=\"Open In Colab\"/></a>"
      ]
    },
    {
      "cell_type": "markdown",
      "source": [
        "Cylinder area calculator"
      ],
      "metadata": {
        "id": "SrX-WVcCF531"
      }
    },
    {
      "cell_type": "code",
      "execution_count": null,
      "metadata": {
        "colab": {
          "base_uri": "https://localhost:8080/"
        },
        "id": "Ro7PKZFD4K-5",
        "outputId": "96354ddd-3b15-44f2-dcf6-73af3f848e03"
      },
      "outputs": [
        {
          "output_type": "stream",
          "name": "stdout",
          "text": [
            "Enter radius: 5\n",
            "Enter height: 7\n",
            "Area of cylinder: 376.8 sq. ft\n"
          ]
        }
      ],
      "source": [
        "pi = 3.14\n",
        "radius = float(input('Enter radius: '))\n",
        "height = float(input('Enter height: '))\n",
        "\n",
        "area = (2 * pi * (radius ** 2)) + (2 * pi * radius * height)\n",
        "\n",
        "print(f'Area of cylinder: {area} sq. ft')\n"
      ]
    },
    {
      "cell_type": "markdown",
      "source": [
        "Numerical Calculator"
      ],
      "metadata": {
        "id": "ApO-tL7tF-Pc"
      }
    },
    {
      "cell_type": "code",
      "source": [
        "n1 = float(input('Enter first number: '))\n",
        "n2 = float(input('Enter second number: '))\n",
        "op = input('Enter operator: ')\n",
        "\n",
        "if op == '+' :\n",
        "  res = n1 + n2\n",
        "elif op == '-' :\n",
        "  res = n1- n2\n",
        "elif op == '*' :\n",
        "  res = n1 * n2\n",
        "elif op == '/' :\n",
        "  res = n1 / n2\n",
        "elif op == '//' :\n",
        "  res = n1 // n2\n",
        "elif op == '**' :\n",
        "  res = n1 ** n2\n",
        "elif op == '%' :\n",
        "  res = n1 % n2\n",
        "else:\n",
        "  res = 'Invalid operator!'\n",
        "\n",
        "print(f'{n1} {op} {n2} = {res}')"
      ],
      "metadata": {
        "id": "lNVi7zPsZHSq",
        "colab": {
          "base_uri": "https://localhost:8080/"
        },
        "outputId": "961e24a5-6729-4386-86df-12e16e2a7fc7"
      },
      "execution_count": null,
      "outputs": [
        {
          "output_type": "stream",
          "name": "stdout",
          "text": [
            "Enter first number: 6\n",
            "Enter second number: 8\n",
            "Enter operator: +\n",
            "6.0 + 8.0 = 14.0\n"
          ]
        }
      ]
    },
    {
      "cell_type": "markdown",
      "source": [
        "Parking Garage"
      ],
      "metadata": {
        "id": "J-SjR-UyniXu"
      }
    },
    {
      "cell_type": "code",
      "source": [
        "flatRate = 5\n",
        "hourlyRate = 2.5\n",
        "\n",
        "for h in range(1, 9):\n",
        "  charge = flatRate + hourlyRate * h\n",
        "  if charge < 10:\n",
        "    charge = 10\n",
        "  elif charge > 20:\n",
        "    charge = 20\n",
        "  print(h, charge)"
      ],
      "metadata": {
        "colab": {
          "base_uri": "https://localhost:8080/"
        },
        "id": "gNRyp6l0nlFp",
        "outputId": "65eb2dd8-7d18-4b95-82d0-36c3556e171e"
      },
      "execution_count": null,
      "outputs": [
        {
          "output_type": "stream",
          "name": "stdout",
          "text": [
            "1 10\n",
            "2 10.0\n",
            "3 12.5\n",
            "4 15.0\n",
            "5 17.5\n",
            "6 20.0\n",
            "7 20\n",
            "8 20\n"
          ]
        }
      ]
    },
    {
      "cell_type": "code",
      "source": [
        "for number in range(1, 9, 1):\n",
        "  fee = 5 + 2.5 * number\n",
        "  if fee < 10:\n",
        "    fee = 10.0\n",
        "  elif fee > 20:\n",
        "    fee = 20.0\n",
        "  print(number, fee)"
      ],
      "metadata": {
        "colab": {
          "base_uri": "https://localhost:8080/"
        },
        "id": "0jyOvc5RpW9Z",
        "outputId": "03d30c0c-fd6e-4ddb-e33e-f3aa5f4db7f7"
      },
      "execution_count": null,
      "outputs": [
        {
          "output_type": "stream",
          "name": "stdout",
          "text": [
            "1 10.0\n",
            "2 10.0\n",
            "3 12.5\n",
            "4 15.0\n",
            "5 17.5\n",
            "6 20.0\n",
            "7 20.0\n",
            "8 20.0\n"
          ]
        }
      ]
    },
    {
      "cell_type": "markdown",
      "source": [
        "Movie Theater"
      ],
      "metadata": {
        "id": "YUM9E9UAGJTP"
      }
    },
    {
      "cell_type": "code",
      "source": [
        "print('Ad$\\t', 'Profit')\n",
        "for advertisingDollars in range(0, 201, 25):\n",
        "  revenue = (20 + 2 * round(advertisingDollars ** 0.5)) * 10\n",
        "  costs = 200 + advertisingDollars\n",
        "  profit = revenue - costs\n",
        "  print(advertisingDollars, '\\t', profit)\n"
      ],
      "metadata": {
        "colab": {
          "base_uri": "https://localhost:8080/"
        },
        "id": "FUqerLN6uHv8",
        "outputId": "f2ba161d-854d-49a4-e40d-28f73a608095"
      },
      "execution_count": null,
      "outputs": [
        {
          "output_type": "stream",
          "name": "stdout",
          "text": [
            "Ad$\t Profit\n",
            "0 \t 0\n",
            "25 \t 75\n",
            "50 \t 90\n",
            "75 \t 105\n",
            "100 \t 100\n",
            "125 \t 95\n",
            "150 \t 90\n",
            "175 \t 85\n",
            "200 \t 80\n"
          ]
        }
      ]
    },
    {
      "cell_type": "markdown",
      "source": [
        "Rock Paper Scissors"
      ],
      "metadata": {
        "id": "1QWiYpNAGSFO"
      }
    },
    {
      "cell_type": "code",
      "source": [
        "choice1 = input('Enter choice for player 1: ')\n",
        "choice2 = input('Enter choice for player 2: ')\n",
        "\n",
        "if choice1 == 'rock' and choice2 == 'paper':\n",
        "  print('Player 2 wins')\n",
        "elif choice1 == 'paper' and choice2 == 'rock':\n",
        "  print('Player 1 wins')\n",
        "elif choice1 == 'rock' and choice2 == 'scissors':\n",
        "  print('Player 1 wins')\n",
        "elif choice1 == 'scissors' and choice2 == 'rock':\n",
        "  print('Player 2 wins')\n",
        "elif choice1 == 'scissors' and choice2 == 'paper':\n",
        "  print('Player 1 wins')\n",
        "elif choice1 == 'paper' and choice2 == 'scissors':\n",
        "  print('Player 2 wins')\n",
        "elif choice1 == 'stop' or choice2 == 'stop':\n",
        "  print('Game Over')"
      ],
      "metadata": {
        "colab": {
          "base_uri": "https://localhost:8080/"
        },
        "id": "G3eIx8kYZphq",
        "outputId": "28146c3f-f4f5-4904-92e6-77432c22830a"
      },
      "execution_count": null,
      "outputs": [
        {
          "output_type": "stream",
          "name": "stdout",
          "text": [
            "Enter choice for player 1: rock\n",
            "Enter choice for player 2: paper\n",
            "Player 2 wins\n"
          ]
        }
      ]
    },
    {
      "cell_type": "markdown",
      "source": [
        "Rock Paper Scissors (2)"
      ],
      "metadata": {
        "id": "5zcFy0dYGW4B"
      }
    },
    {
      "cell_type": "code",
      "source": [
        "play = input('Do you want to play the game (yes/no): ')\n",
        "\n",
        "while play == 'Yes':\n",
        "  p1 = input('Player 1 - Choose between rock/paper/scissors: ')\n",
        "  p2 = input('Player 2 - Choose between rock/paper/scissors: ')\n",
        "\n",
        "  if p1 == p2:\n",
        "    print('Draw')\n",
        "\n",
        "  elif p1 == 'Rock' and p2 == 'Scissors':\n",
        "    print('Player 1 wins!')\n",
        "  elif p1 == 'Scissors' and p2 == 'Paper':\n",
        "    print('Player 1 wins!')\n",
        "  elif p1 == 'Paper' and p2 == 'Rock':\n",
        "    print('Player 1 wins!')\n",
        "  else:\n",
        "    print('Player 2 wins!')\n",
        "\n",
        "  play = input('Do you want to play another game (yes/no): ')\n",
        "print('Good day...')"
      ],
      "metadata": {
        "colab": {
          "base_uri": "https://localhost:8080/"
        },
        "id": "VGDcYvTlcmJH",
        "outputId": "14ede5f5-1730-4509-ccbe-55e94805d783"
      },
      "execution_count": null,
      "outputs": [
        {
          "output_type": "stream",
          "name": "stdout",
          "text": [
            "Do you want to play the game (yes/no): Yes\n",
            "Player 1 - Choose between rock/paper/scissors: Rock\n",
            "Player 2 - Choose between rock/paper/scissors: Paper\n",
            "Player 2 wins!\n",
            "Do you want to play another game (yes/no): Yes\n",
            "Player 1 - Choose between rock/paper/scissors: Scissors\n",
            "Player 2 - Choose between rock/paper/scissors: Paper\n",
            "Player 1 wins!\n",
            "Do you want to play another game (yes/no): No\n",
            "Good day...\n"
          ]
        }
      ]
    },
    {
      "cell_type": "markdown",
      "source": [
        "Append items to list iteratively"
      ],
      "metadata": {
        "id": "ekwk4LY0GaBW"
      }
    },
    {
      "cell_type": "code",
      "source": [
        "lst = []\n",
        "\n",
        "num = float(input('Enter a number: '))\n",
        "\n",
        "while num != 0:\n",
        "  lst.append(num)\n",
        "  num = float(input('Enter a number: '))\n",
        "lst.sort(reverse=True)\n",
        "lst"
      ],
      "metadata": {
        "colab": {
          "base_uri": "https://localhost:8080/"
        },
        "id": "vDPuD1m3diaL",
        "outputId": "d4dd8055-a1f1-443d-d821-ddfbebd04b1d"
      },
      "execution_count": null,
      "outputs": [
        {
          "name": "stdout",
          "output_type": "stream",
          "text": [
            "Enter a number: 5\n",
            "Enter a number: 9\n",
            "Enter a number: 3\n",
            "Enter a number: 2\n",
            "Enter a number: 0\n"
          ]
        },
        {
          "output_type": "execute_result",
          "data": {
            "text/plain": [
              "[9.0, 5.0, 3.0, 2.0]"
            ]
          },
          "metadata": {},
          "execution_count": 4
        }
      ]
    },
    {
      "cell_type": "markdown",
      "source": [
        "Dynamic Dictionary of Number: Month Pairs"
      ],
      "metadata": {
        "id": "BXJIPWfNGpKn"
      }
    },
    {
      "cell_type": "code",
      "source": [
        "months ={}\n",
        "\n",
        "names = [\"Jan\", \"Feb\", \"Mar\", \"Apr\", \"May\", \"Jun\", \"Jul\", \"Aug\", \"Sep\", \"Oct\", \"Nov\", \"Dec\"]\n",
        "numbers = [1,2,3,4,5,6,7,8,9,10,11,12]\n",
        "\n",
        "for idx in range(len(numbers)):\n",
        "  months[numbers[idx]] = names[idx]\n",
        "months"
      ],
      "metadata": {
        "colab": {
          "base_uri": "https://localhost:8080/"
        },
        "id": "dCWQU79gASQ3",
        "outputId": "f719ce89-5471-488c-e89d-43814bf868fe"
      },
      "execution_count": null,
      "outputs": [
        {
          "output_type": "execute_result",
          "data": {
            "text/plain": [
              "{1: 'Jan',\n",
              " 2: 'Feb',\n",
              " 3: 'Mar',\n",
              " 4: 'Apr',\n",
              " 5: 'May',\n",
              " 6: 'Jun',\n",
              " 7: 'Jul',\n",
              " 8: 'Aug',\n",
              " 9: 'Sep',\n",
              " 10: 'Oct',\n",
              " 11: 'Nov',\n",
              " 12: 'Dec'}"
            ]
          },
          "metadata": {},
          "execution_count": 23
        }
      ]
    },
    {
      "cell_type": "markdown",
      "source": [
        "Dynamic Dictionary of Number: Month Pairs (2)"
      ],
      "metadata": {
        "id": "sRKyx9SBG0Mz"
      }
    },
    {
      "cell_type": "code",
      "source": [
        "months ={}\n",
        "\n",
        "names = [\"Jan\", \"Feb\", \"Mar\", \"Apr\", \"May\", \"Jun\", \"Jul\", \"Aug\", \"Sep\", \"Oct\", \"Nov\", \"Dec\"]\n",
        "numbers = [1,2,3,4,5,6,7,8,9,10,11,12]\n",
        "\n",
        "cntr = 0\n",
        "for num in numbers:\n",
        "  months[num] = names[cntr]\n",
        "  cntr += 1\n",
        "months"
      ],
      "metadata": {
        "colab": {
          "base_uri": "https://localhost:8080/"
        },
        "id": "vqZTif62EDjK",
        "outputId": "3247320e-06b4-486d-a701-1a41d38764be"
      },
      "execution_count": null,
      "outputs": [
        {
          "output_type": "execute_result",
          "data": {
            "text/plain": [
              "{1: 'Jan',\n",
              " 2: 'Feb',\n",
              " 3: 'Mar',\n",
              " 4: 'Apr',\n",
              " 5: 'May',\n",
              " 6: 'Jun',\n",
              " 7: 'Jul',\n",
              " 8: 'Aug',\n",
              " 9: 'Sep',\n",
              " 10: 'Oct',\n",
              " 11: 'Nov',\n",
              " 12: 'Dec'}"
            ]
          },
          "metadata": {},
          "execution_count": 19
        }
      ]
    },
    {
      "cell_type": "markdown",
      "source": [
        "Dynamic Dictionary of Number: Month Pairs (3)"
      ],
      "metadata": {
        "id": "NnDxM5cOG6sH"
      }
    },
    {
      "cell_type": "code",
      "source": [
        "months ={}\n",
        "\n",
        "names = [\"Jan\", \"Feb\", \"Mar\", \"Apr\", \"May\", \"Jun\", \"Jul\", \"Aug\", \"Sep\", \"Oct\", \"Nov\", \"Dec\"]\n",
        "numbers = [1,2,3,4,5,6,7,8,9,10,11,12]\n",
        "\n",
        "for num in numbers:\n",
        "  months[num] = names[num - 1]\n",
        "months"
      ],
      "metadata": {
        "colab": {
          "base_uri": "https://localhost:8080/"
        },
        "id": "bG28Qe1UGB0b",
        "outputId": "a68b68d8-b619-41b8-a0d7-d189ca957e2a"
      },
      "execution_count": null,
      "outputs": [
        {
          "output_type": "execute_result",
          "data": {
            "text/plain": [
              "{1: 'Jan',\n",
              " 2: 'Feb',\n",
              " 3: 'Mar',\n",
              " 4: 'Apr',\n",
              " 5: 'May',\n",
              " 6: 'Jun',\n",
              " 7: 'Jul',\n",
              " 8: 'Aug',\n",
              " 9: 'Sep',\n",
              " 10: 'Oct',\n",
              " 11: 'Nov',\n",
              " 12: 'Dec'}"
            ]
          },
          "metadata": {},
          "execution_count": 22
        }
      ]
    },
    {
      "cell_type": "markdown",
      "source": [
        "Dynamic Dictionary; 5 Distinct Key:Value Pairs"
      ],
      "metadata": {
        "id": "Zyl7VsuoG_3L"
      }
    },
    {
      "cell_type": "code",
      "source": [
        "counts = {}\n",
        "\n",
        "while len(counts) < 5:\n",
        "  key = input(\"Enter a string: \")\n",
        "\n",
        "  if key not in counts:\n",
        "    counts[key] = 1\n",
        "  else:\n",
        "    counts[key] += 1\n",
        "\n",
        "counts"
      ],
      "metadata": {
        "colab": {
          "base_uri": "https://localhost:8080/"
        },
        "id": "71vqT0c1JGbA",
        "outputId": "a9781566-eb4e-4ee8-e4f6-1c492e28198b"
      },
      "execution_count": null,
      "outputs": [
        {
          "name": "stdout",
          "output_type": "stream",
          "text": [
            "Enter a string: a\n",
            "Enter a string: a\n",
            "Enter a string: b\n",
            "Enter a string: b\n",
            "Enter a string: b\n",
            "Enter a string: c\n",
            "Enter a string: d\n",
            "Enter a string: d\n",
            "Enter a string: d\n",
            "Enter a string: d\n",
            "Enter a string: e\n"
          ]
        },
        {
          "output_type": "execute_result",
          "data": {
            "text/plain": [
              "{'a': 2, 'b': 3, 'c': 1, 'd': 4, 'e': 1}"
            ]
          },
          "metadata": {},
          "execution_count": 28
        }
      ]
    },
    {
      "cell_type": "markdown",
      "source": [
        "Parking Garage: Calc Fee Function"
      ],
      "metadata": {
        "id": "Aat1PVlHHNf4"
      }
    },
    {
      "cell_type": "code",
      "source": [
        "def calcFee(hours):\n",
        "  fee = 5 + 2.5 * hours\n",
        "  if fee < 10.0:\n",
        "    fee = 10.0\n",
        "  elif fee >= 20.0:\n",
        "    fee = 20.0\n",
        "  print(f'Fee: {fee}$')\n",
        "\n",
        "print('Program starts...')\n",
        "numHours = int(input('Enter number of hours: '))\n",
        "calcFee(numHours)"
      ],
      "metadata": {
        "colab": {
          "base_uri": "https://localhost:8080/"
        },
        "id": "dx0Qt0rT3RYB",
        "outputId": "573d25d6-5b58-4dfb-e31c-c8c8d266bec8"
      },
      "execution_count": null,
      "outputs": [
        {
          "output_type": "stream",
          "name": "stdout",
          "text": [
            "Program starts...\n",
            "Enter number of hours: 5\n",
            "Fee: 17.5$\n"
          ]
        }
      ]
    },
    {
      "cell_type": "markdown",
      "source": [
        "Recursive Function: String Reversal"
      ],
      "metadata": {
        "id": "iWmVsj9LoWgX"
      }
    },
    {
      "cell_type": "code",
      "source": [
        "def reverse(s):\n",
        "  if len(s) == 1:\n",
        "    return s\n",
        "  else:\n",
        "    return s[-1] + reverse(s[1:-1]) + s[0]\n",
        "    return reverse(s[1:]) + s[0]\n",
        "    return s[-1] + reverse(s[:-1])\n",
        "\n",
        "reverse('Hello')"
      ],
      "metadata": {
        "colab": {
          "base_uri": "https://localhost:8080/",
          "height": 35
        },
        "id": "HREJaQbEoaly",
        "outputId": "8e85be01-f888-4c50-e0bb-731ce35685cb"
      },
      "execution_count": null,
      "outputs": [
        {
          "output_type": "execute_result",
          "data": {
            "text/plain": [
              "'olleH'"
            ],
            "application/vnd.google.colaboratory.intrinsic+json": {
              "type": "string"
            }
          },
          "metadata": {},
          "execution_count": 7
        }
      ]
    },
    {
      "cell_type": "markdown",
      "source": [
        "Parking garage/ 1st question of Assignment II using exception handling"
      ],
      "metadata": {
        "id": "eiQpsvuLobVl"
      }
    },
    {
      "cell_type": "code",
      "source": [
        "def calcFee(hours):\n",
        "  assert hours >= 0, \"The number of hours should be non-negative...\"\n",
        "  fee = 5 + 2.5 * hours\n",
        "  if fee < 10:\n",
        "    fee = 10.0\n",
        "  elif fee > 20:\n",
        "    fee = 20.0\n",
        "  print(f'Fee: {fee}$')\n",
        "\n",
        "def main():\n",
        "  try:\n",
        "    numHours = int(input('Enter number of hours: '))\n",
        "    calcFee(numHours)\n",
        "  except ValueError:\n",
        "    print('Cannot cast to int().')\n",
        "  #except:\n",
        "  #  print('Unknown error...')\n",
        "\n",
        "if __name__ == \"__main__\":\n",
        "  main()\n",
        "\n",
        "\n",
        "def getValues(n):\n",
        "  L = []\n",
        "  for i in range(n):\n",
        "    weight = float(input('Enter weight: '))\n",
        "    L.append(weight)\n",
        "  return L\n",
        "\n",
        "def calcAverage(alist):\n",
        "  try:\n",
        "    print(f'The average weight is: {sum(alist[2:]) / len(alist[2:])}')\n",
        "  except ZeroDivisionError:\n",
        "    print(f'List {alist} is empty!')\n",
        "\n",
        "if __name__ == \"__main__\":\n",
        "  try:\n",
        "    n = int(input('Enter size of list: '))\n",
        "    alist = getValues(n)\n",
        "    calcAverage(alist)\n",
        "  except ValueError:\n",
        "    print('Input cannot be casted as an int()')\n"
      ],
      "metadata": {
        "colab": {
          "base_uri": "https://localhost:8080/"
        },
        "id": "9TVk4YJhohEi",
        "outputId": "c96798ea-b136-4ad5-ebaa-e56e5f4f839d"
      },
      "execution_count": null,
      "outputs": [
        {
          "output_type": "stream",
          "name": "stdout",
          "text": [
            "Enter number of hours: 2\n",
            "Fee: 10.0$\n",
            "Enter size of list: 3\n",
            "Enter weight: 120\n",
            "Enter weight: 130\n",
            "Enter weight: 140\n",
            "The average weight is: 140.0\n"
          ]
        }
      ]
    },
    {
      "cell_type": "markdown",
      "source": [
        "Greeting Class"
      ],
      "metadata": {
        "id": "yokQXvt6oiDd"
      }
    },
    {
      "cell_type": "code",
      "source": [
        "class Greeting:\n",
        "  def __init__(self, first, last):\n",
        "    self.first = first\n",
        "    self.last = last\n",
        "  def display(self, formal=False):\n",
        "    if formal:\n",
        "      print(f'Hi {self.first} {self.last}')\n",
        "    else:\n",
        "      print(f'Hi {self.first}')\n",
        "\n",
        "  def __str__(self):\n",
        "    return \"{}, {}\".format(self.first, self.last)\n",
        "    return f'{self.first}, {self.last}'\n",
        "    return str(self.first) + \", \" + str(self.last)\n",
        "\n",
        "greeting = Greeting('Donald', 'Becker')\n",
        "greeting2 = Greeting('Bob', 'Dylan')\n",
        "greeting.display(formal=True)\n",
        "print(greeting)\n",
        "print(greeting2)"
      ],
      "metadata": {
        "colab": {
          "base_uri": "https://localhost:8080/"
        },
        "id": "vfYfSwHjojoJ",
        "outputId": "003130cf-e63c-4653-ff19-c4978bcbac99"
      },
      "execution_count": 1,
      "outputs": [
        {
          "output_type": "stream",
          "name": "stdout",
          "text": [
            "Hi Donald Becker\n",
            "Donald, Becker\n",
            "Bob, Dylan\n"
          ]
        }
      ]
    },
    {
      "cell_type": "markdown",
      "source": [
        "Student Class"
      ],
      "metadata": {
        "id": "cWfh-ZxwokNn"
      }
    },
    {
      "cell_type": "code",
      "source": [
        "class Student:\n",
        "  def __init__(self, name, number):\n",
        "    self.__name = name\n",
        "    self.number = number\n",
        "    self.__courses = []\n",
        "\n",
        "def enroll(self, newCourse):\n",
        "  if newCourse not in self.__courses:\n",
        "    self.__courses.append(newCourse)\n",
        "  else:\n",
        "    print(f'You have already enrolled in {newCourse}')\n",
        "\n",
        "def get_courses(self):\n",
        "  return self.__courses"
      ],
      "metadata": {
        "id": "60WK9Nzfom4t"
      },
      "execution_count": null,
      "outputs": []
    },
    {
      "cell_type": "markdown",
      "source": [
        "Classes Point Rectangle"
      ],
      "metadata": {
        "id": "rMxLmX5zHjh6"
      }
    },
    {
      "cell_type": "code",
      "source": [
        "import math\n",
        "\n",
        "class Point:\n",
        "  def __init__(self, x, y):\n",
        "    self.x = x\n",
        "    self.y = y\n",
        "\n",
        "  def distance(self, other):\n",
        "    return math.sqrt((self.x - other.x) ** 2 + (self.y - other.y) ** 2)"
      ],
      "metadata": {
        "id": "DBcPnpKGEHwt"
      },
      "execution_count": null,
      "outputs": []
    },
    {
      "cell_type": "code",
      "source": [
        "import math\n",
        "\n",
        "class Point:\n",
        "  def __init__(self, x, y):\n",
        "    self.x = x\n",
        "    self.y = y\n",
        "\n",
        "  def distance(self, other):\n",
        "    dx = (self.x - other.x) ** 2\n",
        "    dy = (self.y - other.y) ** 2\n",
        "    dist = math.sqrt(dx + dy)\n",
        "    return dist\n",
        "\n",
        "p1 = Point(1, 7)\n",
        "p2 = Point(4, 3)\n",
        "p1.distance(p2)"
      ],
      "metadata": {
        "colab": {
          "base_uri": "https://localhost:8080/"
        },
        "id": "e8cOyqUOESYx",
        "outputId": "762572b9-0323-4045-9a4e-fa73941dcf37"
      },
      "execution_count": null,
      "outputs": [
        {
          "output_type": "execute_result",
          "data": {
            "text/plain": [
              "5.0"
            ]
          },
          "metadata": {},
          "execution_count": 2
        }
      ]
    },
    {
      "cell_type": "code",
      "source": [
        "class Rectangle:\n",
        "  def __init__(self):\n",
        "    self.c1 = Point(0, 0)\n",
        "    self.c2 = Point(0, 2)\n",
        "    self.c3 = Point(2, 0)\n",
        "    self.c4 = Point(2, 2)\n",
        "    self.width = self.calculate_width()\n",
        "    self.length = self.calculate_length()\n",
        "\n",
        "  def calculate_width(self):\n",
        "    # Calculates the distance between self.c1 and self.c3\n",
        "    return self.c1.distance(self.c3)\n",
        "\n",
        "  def calculate_length(self):\n",
        "    return self.c1.distance(self.c2)\n",
        "\n",
        "  def area(self):\n",
        "    return f'Area = {self.width * self.length} sq. ft.'\n",
        "\n",
        "square = Rectangle()\n",
        "square.area()"
      ],
      "metadata": {
        "colab": {
          "base_uri": "https://localhost:8080/",
          "height": 35
        },
        "id": "GLnPR3QXETjl",
        "outputId": "95d66137-67f3-418d-aead-c7dd79547edc"
      },
      "execution_count": null,
      "outputs": [
        {
          "output_type": "execute_result",
          "data": {
            "text/plain": [
              "'Area = 4.0 sq. ft.'"
            ],
            "application/vnd.google.colaboratory.intrinsic+json": {
              "type": "string"
            }
          },
          "metadata": {},
          "execution_count": 3
        }
      ]
    },
    {
      "cell_type": "code",
      "source": [],
      "metadata": {
        "id": "kMrNKusJEZI8"
      },
      "execution_count": null,
      "outputs": []
    }
  ]
}